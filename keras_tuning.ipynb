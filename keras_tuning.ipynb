{
 "cells": [
  {
   "cell_type": "markdown",
   "metadata": {},
   "source": [
    "<div style=\"color:#ffffff; \n",
    "          font-size:50px; \n",
    "          font-style:italic; \n",
    "          text-align:left;\n",
    "          font-family: 'Lucida Bright';\n",
    "          background:#4686C8;\">\n",
    "  \t&nbsp; Keras Tuning\n",
    "</div>\n",
    "<br>   \n",
    "<div style=\"\n",
    "          font-size:20px; \n",
    "          text-align:left;\n",
    "          font-family: 'Palatino';\n",
    "          \">\n",
    "&nbsp;&nbsp;&nbsp;&nbsp;&nbsp;&nbsp;Project: Keras Tuning<br>\n",
    "&nbsp;&nbsp;&nbsp;&nbsp;&nbsp;&nbsp;Author: George Barrinuevo<br>\n",
    "&nbsp;&nbsp;&nbsp;&nbsp;&nbsp;&nbsp;Date: 06/21/2025<br>\n",
    "</div>"
   ]
  },
  {
   "cell_type": "code",
   "execution_count": 1,
   "metadata": {
    "id": "M4-PVPYDI1sw"
   },
   "outputs": [
    {
     "name": "stderr",
     "output_type": "stream",
     "text": [
      "2025-06-23 19:11:20.733240: I tensorflow/core/util/port.cc:153] oneDNN custom operations are on. You may see slightly different numerical results due to floating-point round-off errors from different computation orders. To turn them off, set the environment variable `TF_ENABLE_ONEDNN_OPTS=0`.\n",
      "2025-06-23 19:11:20.733874: I external/local_xla/xla/tsl/cuda/cudart_stub.cc:32] Could not find cuda drivers on your machine, GPU will not be used.\n",
      "2025-06-23 19:11:20.737208: I external/local_xla/xla/tsl/cuda/cudart_stub.cc:32] Could not find cuda drivers on your machine, GPU will not be used.\n",
      "2025-06-23 19:11:20.745522: E external/local_xla/xla/stream_executor/cuda/cuda_fft.cc:467] Unable to register cuFFT factory: Attempting to register factory for plugin cuFFT when one has already been registered\n",
      "WARNING: All log messages before absl::InitializeLog() is called are written to STDERR\n",
      "E0000 00:00:1750731080.759792   28572 cuda_dnn.cc:8579] Unable to register cuDNN factory: Attempting to register factory for plugin cuDNN when one has already been registered\n",
      "E0000 00:00:1750731080.764188   28572 cuda_blas.cc:1407] Unable to register cuBLAS factory: Attempting to register factory for plugin cuBLAS when one has already been registered\n",
      "W0000 00:00:1750731080.776094   28572 computation_placer.cc:177] computation placer already registered. Please check linkage and avoid linking the same target more than once.\n",
      "W0000 00:00:1750731080.776114   28572 computation_placer.cc:177] computation placer already registered. Please check linkage and avoid linking the same target more than once.\n",
      "W0000 00:00:1750731080.776117   28572 computation_placer.cc:177] computation placer already registered. Please check linkage and avoid linking the same target more than once.\n",
      "W0000 00:00:1750731080.776120   28572 computation_placer.cc:177] computation placer already registered. Please check linkage and avoid linking the same target more than once.\n",
      "2025-06-23 19:11:20.779920: I tensorflow/core/platform/cpu_feature_guard.cc:210] This TensorFlow binary is optimized to use available CPU instructions in performance-critical operations.\n",
      "To enable the following instructions: AVX2 AVX_VNNI FMA, in other operations, rebuild TensorFlow with the appropriate compiler flags.\n"
     ]
    }
   ],
   "source": [
    "import os\n",
    "import tensorflow as tf\n",
    "import keras_tuner as kt\n",
    "from tensorflow.keras import layers, models, applications\n",
    "from tensorflow.keras.models import Sequential\n",
    "from keras.layers import Lambda\n",
    "import numpy as np\n",
    "import pandas as pd\n",
    "import matplotlib.pyplot as plt\n",
    "os.environ['CUDA_VISIBLE_DEVICES'] = \"-1\"    # If set to '-1 ' will disable using CUDA GPU."
   ]
  },
  {
   "cell_type": "code",
   "execution_count": 2,
   "metadata": {
    "id": "iZ93_csyI7S9"
   },
   "outputs": [],
   "source": [
    "# pip install -q -U keras-tuner"
   ]
  },
  {
   "cell_type": "markdown",
   "metadata": {},
   "source": [
    "<br><div style=\"color:#ffffff; \n",
    "          font-size:30px; \n",
    "          font-style:italic; \n",
    "          text-align:left;\n",
    "          font-family: 'Lucida Bright';\n",
    "          background:#4686C8;\">\n",
    "  \t      &nbsp; Load Dataset\n",
    "</div>\n",
    "<div style=\"\n",
    "          font-size:16px; \n",
    "          text-align:left;\n",
    "          font-family: 'Cambria';\">\n",
    "The Keras MNIST is a dataset of images of the 10 digits. This is a dataset of 60,000 28x28 grayscale images of the 10 digits, along with a test set of 10,000 images. The dataset info can be found here: <br>\n",
    "&nbsp;&nbsp;&nbsp;&nbsp;&nbsp;&nbsp; https://keras.io/api/datasets/mnist/<br>\n",
    "The models used in this notebook have parameters that rely on the images to be of size (224, 224, 3) in the format (height, width, channels). Changing the image to another size will require changing the models parameters. Also, the model requires the input images be in RGB format. A conversion from grayscale to RGB color is required.<br>\n",
    "<br>\n",
    "The my_shuffle_ndarry() is used to shuffle the X and Y dataset.\n",
    "</div>"
   ]
  },
  {
   "cell_type": "code",
   "execution_count": 3,
   "metadata": {
    "colab": {
     "base_uri": "https://localhost:8080/"
    },
    "id": "J6PZ4t0QI985",
    "outputId": "98298c54-fa9c-41e9-c1d2-1643bc95bfeb"
   },
   "outputs": [
    {
     "name": "stdout",
     "output_type": "stream",
     "text": [
      "X_train.shape: (60000, 28, 28)\n",
      "y_train.shape: (60000,)\n",
      "X_test.shape: (10000, 28, 28)\n",
      "y_test.shape: (10000,)\n",
      "uint8\n",
      "Min value: 0.0, Max value: 255.0\n"
     ]
    }
   ],
   "source": [
    "\n",
    "input_shape = (224, 224, 3)\n",
    "\n",
    "(X_train, y_train), (X_test, y_test) = tf.keras.datasets.mnist.load_data()\n",
    "\n",
    "# Used to shuffle the dataset.\n",
    "def my_shuffle_ndarry(in_X, in_Y):\n",
    "    t_shape = in_X.shape[0]\n",
    "    # print(f't_shape: {t_shape}')\n",
    "    indices = np.arange(t_shape)\n",
    "    np.random.shuffle(indices)\n",
    "    # print(f'indices: {indices}')\n",
    "    out_X = in_X[indices]\n",
    "    out_Y = in_Y[indices]\n",
    "    return (out_X, out_Y)\n",
    "\n",
    "X_train, y_train = my_shuffle_ndarry(X_train, y_train)\n",
    "\n",
    "print(f'X_train.shape: {X_train.shape}')\n",
    "print(f'y_train.shape: {y_train.shape}')\n",
    "print(f'X_test.shape: {X_test.shape}')\n",
    "print(f'y_test.shape: {y_test.shape}')\n",
    "print(f'{(X_train.dtype)}')\n",
    "\n",
    "t_min = float(X_train.min())\n",
    "t_max = float(X_train.max())\n",
    "print(f'Min value: {t_min}, Max value: {t_max}')"
   ]
  },
  {
   "cell_type": "markdown",
   "metadata": {},
   "source": [
    "<br>\n",
    "<div style=\"color:#ffffff; \n",
    "          font-size:30px; \n",
    "          font-style:italic; \n",
    "          text-align:left;\n",
    "          font-family: 'Lucida Bright';\n",
    "          background:#4686C8;\">\n",
    "  \t      &nbsp; Plot Some Images\n",
    "</div>\n",
    "<br>\n",
    "<div style=\"\n",
    "          font-size:16px; \n",
    "          text-align:left;\n",
    "          font-family: 'Cambria';\">\n",
    "Some images are plotted.\n",
    "</div>"
   ]
  },
  {
   "cell_type": "code",
   "execution_count": 4,
   "metadata": {},
   "outputs": [
    {
     "name": "stdout",
     "output_type": "stream",
     "text": [
      "class_names: [0 1 2 3 4 5 6 7 8 9]\n",
      "num_classes: 10\n",
      "X_train.shape: (60000, 28, 28)\n"
     ]
    },
    {
     "data": {
      "image/png": "[encoded data removed]",
      "text/plain": [
       "<Figure size 1000x1000 with 12 Axes>"
      ]
     },
     "metadata": {},
     "output_type": "display_data"
    }
   ],
   "source": [
    "%matplotlib inline\n",
    "class_names = np.unique(y_train, axis=0)\n",
    "num_classes = len(class_names)\n",
    "print(f'class_names: {class_names}')\n",
    "print(f'num_classes: {num_classes}')\n",
    "print(f'X_train.shape: {X_train.shape}')\n",
    "\n",
    "plt.figure(figsize=(10,10))\n",
    "for i in range(12):\n",
    "    image = X_train[i]\n",
    "    label = y_train[i]\n",
    "    ax = plt.subplot(3,4,i+1)\n",
    "    plt.imshow(image)\n",
    "    plt.title(class_names[label])\n",
    "    plt.axis(\"off\")"
   ]
  },
  {
   "cell_type": "markdown",
   "metadata": {},
   "source": [
    "<br>\n",
    "<div style=\"color:#ffffff; \n",
    "          font-size:30px; \n",
    "          font-style:italic; \n",
    "          text-align:left;\n",
    "          font-family: 'Lucida Bright';\n",
    "          background:#4686C8;\">\n",
    "  \t      &nbsp; Normalize and Convert to RGB\n",
    "</div>\n",
    "<br>\n",
    "<div style=\"\n",
    "          font-size:16px; \n",
    "          text-align:left;\n",
    "          font-family: 'Cambria';\">\n",
    "\n",
    "<b>my_grayscale_to_RGB()</b><br>\n",
    "This function will convert a grayscale dataset to RGB color format. Here are some details of how this is done.<br>\n",
    "This command will convert the 1 row vector to n rows. The shape of (1, 4) is converted to (4, 1):<br>\n",
    "&emsp; &emsp;   command: X_train[:, np.newaxis]<br>\n",
    "&emsp; &emsp; \tfrom: array([0, 1, 2, 3])<br>\n",
    "&emsp; &emsp; \tto: array([[0], [1], [2], [3]])<br>\n",
    "This is the other command used. The shape of (4, 1) is converted to (4, 3). It replicates the values in each row repeats=3 times:<br>\n",
    "&emsp; &emsp;   command: np.repeat(, repeats=3, axis=-1)<br>\n",
    "&emsp; &emsp; \tfrom: from: array([[0], [1], [2], [3]])<br>\n",
    "&emsp; &emsp; \tfrom: to: array([[0, 0, 0], [1, 1, 1], [2, 2, 2], [3, 3, 3]])<br>\n",
    "The Grayscale to RGB conversion requires that the Grayscale values are copied to the R, G, B layers, such that R = G = B. Apply this to the entire training X dataset. Do NOT apply this to the training Y dataset. It is not necessary to apply this to the Test dataset since the training/fitting is done on the Train dataset.<br>\n",
    "<br>\n",
    "<b>my_normalize()</b><br>\n",
    "This function will normalize the dataset by converting the image values from [0, 255] range to [0, 1] range which is more efficient for the algorithms to process. This command can be called directly, or included in the model using the Lambda() function. Alternatively, you can use the tf.keras.layers.Resizing() added to the model. But only call one of these only one times. This script uses the following variables to select 1 of 3 ways to perform normalization used for educational purposes:\n",
    "- 'use_normalization_method' - Possible values are 'model-external-function', 'model-builtin', 'external-function'.\n",
    "\n",
    "The resizing to 224 x 224 pixels image size is needed since the models below have parameters that matches this size.<br>\n",
    "</div>\n",
    "\n"
   ]
  },
  {
   "cell_type": "code",
   "execution_count": 5,
   "metadata": {},
   "outputs": [
    {
     "name": "stdout",
     "output_type": "stream",
     "text": [
      "Adding my_normalize() to the model\n",
      "Min value: 0.0, Max value: 255.0\n"
     ]
    }
   ],
   "source": [
    "def my_normalize(X):   \n",
    "    new_X = X / 255.0\n",
    "    return new_X\n",
    "\n",
    "def my_grayscale_to_RGB(ds):\n",
    "    # print(f'before operations: ds.shape: {ds.shape}')  # (64, 224, 224)\n",
    "    ds = ds[..., np.newaxis]\n",
    "    # print(f'after newaxis: ds.shape: {ds.shape}')\n",
    "    ds = np.repeat(ds, repeats=3, axis=-1)\n",
    "    # print(f'after repeat: ds.shape: {ds.shape}')  # (64, 224, 224, 3)\n",
    "    # print('------')\n",
    "    return ds\n",
    "    \n",
    "use_normalization_method = 'model-external-function'    # Values: 'model-external-function', 'model-builtin', 'external-function'\n",
    "\n",
    "if not use_normalization_method in ['model-external-function', 'model-builtin', 'external-function']:\n",
    "    print(f\"For the script parameter 'use_normalization_method', the value '{use_normalization_method}' is unknown\")\n",
    "    # This is used to exit the script in a Jupyter notebook.\n",
    "    print('Exiting the script.')\n",
    "    assert(False)\n",
    "    \n",
    "resize_and_rescale = tf.keras.Sequential()\n",
    "resize_and_rescale.add(tf.keras.layers.Resizing(224, 224))\n",
    "\n",
    "if use_normalization_method == 'model-external-function':\n",
    "    print(f'Adding my_normalize() to the model')\n",
    "    resize_and_rescale.add(Lambda(my_normalize))\n",
    "elif use_normalization_method == 'model-builtin':\n",
    "    print(f'Adding normalizing method tf.keras.layers.Rescaling() to the model')\n",
    "    resize_and_rescale.add(tf.keras.layers.Rescaling(1./255))\n",
    "\n",
    "if use_normalization_method == 'external-function':\n",
    "    print(f'Calling my_normalize() directly')\n",
    "    X_train = my_normalize(X_train)\n",
    "    X_test = my_normalize(X_test)\n",
    "    \n",
    "X_train = my_grayscale_to_RGB(X_train)\n",
    "X_test = my_grayscale_to_RGB(X_test)\n",
    "\n",
    "t_min = float(X_train.min())\n",
    "t_max = float(X_train.max())\n",
    "print(f'Min value: {t_min}, Max value: {t_max}')\n"
   ]
  },
  {
   "cell_type": "markdown",
   "metadata": {},
   "source": [
    "<br>\n",
    "<div style=\"color:#ffffff; \n",
    "          font-size:30px; \n",
    "          font-style:italic; \n",
    "          text-align:left;\n",
    "          font-family: 'Lucida Bright';\n",
    "          background:#4686C8;\">\n",
    "  \t      &nbsp; Model #1\n",
    "</div>\n",
    "<br>\n",
    "<div style=\"\n",
    "          font-size:16px; \n",
    "          text-align:left;\n",
    "          font-family: 'Cambria';\">\n",
    "    \n",
    "The first model is built. This model uses hyperparameter tuning which will try all combinations to find the best set of parameters. Here is a short list of what they do:<br>\n",
    "- hp.Choice: This allows specifying values to try, e.g. ['relu', 'tanh']\n",
    "- hp.Int: This allows specifying an integer range with a step size to try.\n",
    "\n",
    "There are more than the above and suggest you consult the documentation for more details.\n",
    "</div>"
   ]
  },
  {
   "cell_type": "code",
   "execution_count": 6,
   "metadata": {
    "id": "LCoeIxfGJWfx"
   },
   "outputs": [],
   "source": [
    "def model_builder(hp):\n",
    "  model = tf.keras.Sequential()\n",
    "  model.add(resize_and_rescale)\n",
    "  model.add(tf.keras.layers.Flatten(input_shape=(28, 28)))\n",
    "\n",
    "  # Specify the hyper parameter ranges.\n",
    "  hp_activation = hp.Choice('activation', values=['relu', 'tanh'])           # Choice of string values.\n",
    "  hp_layer_1 = hp.Int('layer_1', min_value=1, max_value=1000, step=100)      # Integer range.\n",
    "  hp_layer_2 = hp.Int('layer_2', min_value=1, max_value=1000, step=100)      # Integer range.\n",
    "  hp_learning_rate = hp.Choice('learning_rate', values=[1e-2, 1e-3, 1e-4])   # Choice of float values.\n",
    "\n",
    "  # Use the above hyper parameter ranges defined above.\n",
    "  model.add(tf.keras.layers.Dense(units=128, activation='relu'))\n",
    "  model.add(tf.keras.layers.Dense(units=128, activation=hp_activation))\n",
    "  model.add(tf.keras.layers.Dense(10, activation='softmax'))\n",
    "\n",
    "  model.compile(optimizer=tf.keras.optimizers.Adam(learning_rate=1e-3),\n",
    "                loss=tf.keras.losses.SparseCategoricalCrossentropy(),    # The predicted Y is not a one-hot encoding, instead it is an integer.\n",
    "                metrics=['accuracy'])\n",
    "\n",
    "  return model"
   ]
  },
  {
   "cell_type": "markdown",
   "metadata": {},
   "source": [
    "<br>\n",
    "<div style=\"color:#ffffff; \n",
    "          font-size:30px; \n",
    "          font-style:italic; \n",
    "          text-align:left;\n",
    "          font-family: 'Lucida Bright';\n",
    "          background:#4686C8;\">\n",
    "  \t      &nbsp; Model #2\n",
    "</div>\n",
    "<br>\n",
    "<div style=\"\n",
    "          font-size:16px; \n",
    "          text-align:left;\n",
    "          font-family: 'Cambria';\">\n",
    "    \n",
    "The second model is built.<br>\n",
    "</div>"
   ]
  },
  {
   "cell_type": "code",
   "execution_count": 7,
   "metadata": {},
   "outputs": [],
   "source": [
    "def build_custom_cnn(hp):\n",
    "    hp_activation = hp.Choice('activation', values=['relu', 'tanh'])           # Choice of string values.\n",
    "    model = Sequential()\n",
    "    model.add(resize_and_rescale),        \n",
    "    model.add(layers.Conv2D(32, kernel_size = (3,3), activation='relu', input_shape=input_shape)),\n",
    "    model.add(layers.MaxPooling2D((2, 2))),\n",
    "    model.add(layers.Conv2D(64,  kernel_size = (3,3), activation='relu')),\n",
    "    model.add(layers.MaxPooling2D((2, 2))),\n",
    "    model.add(layers.Conv2D(64,  kernel_size = (3,3), activation='relu')),\n",
    "    model.add(layers.MaxPooling2D((2, 2))),\n",
    "    model.add(layers.Conv2D(64, (3, 3), activation='relu')),\n",
    "    model.add(layers.MaxPooling2D((2, 2))),\n",
    "    model.add(layers.Conv2D(64, (3, 3), activation='relu')),\n",
    "    model.add(layers.MaxPooling2D((2, 2))),\n",
    "    model.add(layers.Conv2D(64, (3, 3), activation=hp_activation)),\n",
    "    model.add(layers.MaxPooling2D((2, 2))),\n",
    "    model.add(layers.Flatten()),\n",
    "    model.add(layers.Dense(64, activation='relu')),\n",
    "    model.add(layers.Dense(num_classes, activation='softmax')),\n",
    "\n",
    "    model.compile(optimizer='adam',\n",
    "                  loss='sparse_categorical_crossentropy',\n",
    "                  metrics=['accuracy'])\n",
    "    return model"
   ]
  },
  {
   "cell_type": "markdown",
   "metadata": {},
   "source": [
    "<br>\n",
    "<div style=\"color:#ffffff; \n",
    "          font-size:30px; \n",
    "          font-style:italic; \n",
    "          text-align:left;\n",
    "          font-family: 'Lucida Bright';\n",
    "          background:#4686C8;\">\n",
    "  \t      &nbsp; Hyperparameter Tuner\n",
    "</div>\n",
    "<br>\n",
    "<div style=\"\n",
    "          font-size:16px; \n",
    "          text-align:left;\n",
    "          font-family: 'Cambria';\">\n",
    "    \n",
    "This is the hyperparameter tuner. In this script, you can select which models to run:\n",
    "- 'select_model' - Select a model to use:<br>\n",
    "&emsp; &emsp;   select_model = model_builder<br>\n",
    "&emsp; &emsp;   select_model = build_custom_cnn<br>\n",
    "</div>"
   ]
  },
  {
   "cell_type": "code",
   "execution_count": 8,
   "metadata": {
    "id": "Tcm3BaPaMeRQ"
   },
   "outputs": [
    {
     "name": "stdout",
     "output_type": "stream",
     "text": [
      "Reloading Tuner from ./untitled_project/tuner0.json\n"
     ]
    },
    {
     "name": "stderr",
     "output_type": "stream",
     "text": [
      "2025-06-23 19:11:23.095895: E external/local_xla/xla/stream_executor/cuda/cuda_platform.cc:51] failed call to cuInit: INTERNAL: CUDA error: Failed call to cuInit: CUDA_ERROR_NO_DEVICE: no CUDA-capable device is detected\n"
     ]
    }
   ],
   "source": [
    "# To re-run from scratch, delete the directory found in the 'directory' parameter.\n",
    "\n",
    "# select_model = model_builder        \n",
    "select_model = build_custom_cnn  \n",
    "\n",
    "tuner = kt.Hyperband(\n",
    "                     select_model,                # The model\n",
    "                     objective='val_accuracy',    # This is the objective to maximize\n",
    "                     max_epochs=10,               # How long should the model be trained.\n",
    "                     factor=3,                    # Parameter of the algorithm\n",
    "                     # directory='dir',           # Will create this directory if it does not exist.\n",
    "                     # project_name='x',          # Will create this sub-directory if it does not exist.\n",
    "                    )\n"
   ]
  },
  {
   "cell_type": "markdown",
   "metadata": {},
   "source": [
    "<br>\n",
    "<div style=\"color:#ffffff; \n",
    "          font-size:30px; \n",
    "          font-style:italic; \n",
    "          text-align:left;\n",
    "          font-family: 'Lucida Bright';\n",
    "          background:#4686C8;\">\n",
    "  \t      &nbsp; Setup and Run the Model\n",
    "</div>\n",
    "<br>\n",
    "<div style=\"\n",
    "          font-size:16px; \n",
    "          text-align:left;\n",
    "          font-family: 'Cambria';\">\n",
    "\n",
    "<b>EarlyStopping()</b><br>\n",
    "This is optional. This allows the algorithm to stop early when a condition is reached. As an example, these parameters will stop the algorithm early by monitoring the 'val_loss'. If the 'val_loss' does not improve in 3 consecutive epochs, then it will stop early.<br>\n",
    "&emsp; &emsp;   EarlyStopping(monitor='val_loss', patience=3)<br>\n",
    "<br>\n",
    "<b>search()</b><br>\n",
    "This is similar to the model.fit(), but instead this is tuning the model. This will try combinations of the hyperparameter values to find the best one.<br>\n",
    "<br>\n",
    "<b>get_best_hyperparameters()</b><br>\n",
    "From the various hyperparameters the tuner has tried running, this will get the best combinations.<br>\n",
    "<br>\n",
    "<b>hypermodel.build()</b><br>\n",
    "This will rebuild the model using the just found best set of hyperparameters and then will train this model.\n",
    "</div>"
   ]
  },
  {
   "cell_type": "code",
   "execution_count": 9,
   "metadata": {
    "id": "NL8vGgEcNCCq"
   },
   "outputs": [],
   "source": [
    "stop_early = tf.keras.callbacks.EarlyStopping(monitor='val_loss', patience=3)"
   ]
  },
  {
   "cell_type": "code",
   "execution_count": 10,
   "metadata": {
    "colab": {
     "base_uri": "https://localhost:8080/"
    },
    "id": "L2kPvPwzNK2p",
    "outputId": "90c307b9-c9c5-4e7a-baba-3e3b72715a66",
    "scrolled": true
   },
   "outputs": [],
   "source": [
    "tuner.search(X_train, y_train, epochs=10, validation_split=0.2, callbacks=[stop_early])"
   ]
  },
  {
   "cell_type": "code",
   "execution_count": 11,
   "metadata": {
    "id": "9XMqxTJAQGMd"
   },
   "outputs": [],
   "source": [
    "best_hps = tuner.get_best_hyperparameters(num_trials=1)[0]"
   ]
  },
  {
   "cell_type": "code",
   "execution_count": 12,
   "metadata": {
    "colab": {
     "base_uri": "https://localhost:8080/"
    },
    "id": "7V3CCiPYQLdK",
    "outputId": "84296b9c-d83d-4819-e16b-d8283e0d519d"
   },
   "outputs": [
    {
     "name": "stdout",
     "output_type": "stream",
     "text": [
      "Epoch 1/2\n"
     ]
    },
    {
     "name": "stderr",
     "output_type": "stream",
     "text": [
      "/home/georgeb/georgeb/AI-ML/my_keras_tuning/myenv/lib/python3.12/site-packages/keras/src/layers/convolutional/base_conv.py:113: UserWarning: Do not pass an `input_shape`/`input_dim` argument to a layer. When using Sequential models, prefer using an `Input(shape)` object as the first layer in the model instead.\n",
      "  super().__init__(activity_regularizer=activity_regularizer, **kwargs)\n"
     ]
    },
    {
     "name": "stdout",
     "output_type": "stream",
     "text": [
      "\u001b[1m1500/1500\u001b[0m \u001b[32m━━━━━━━━━━━━━━━━━━━━\u001b[0m\u001b[37m\u001b[0m \u001b[1m321s\u001b[0m 213ms/step - accuracy: 0.8678 - loss: 0.3983 - val_accuracy: 0.9743 - val_loss: 0.0819\n",
      "Epoch 2/2\n",
      "\u001b[1m1500/1500\u001b[0m \u001b[32m━━━━━━━━━━━━━━━━━━━━\u001b[0m\u001b[37m\u001b[0m \u001b[1m319s\u001b[0m 212ms/step - accuracy: 0.9797 - loss: 0.0675 - val_accuracy: 0.9838 - val_loss: 0.0534\n"
     ]
    }
   ],
   "source": [
    "model = tuner.hypermodel.build(best_hps)\n",
    "history = model.fit(X_train, y_train, epochs=2, validation_split=0.2, callbacks=[stop_early])"
   ]
  },
  {
   "cell_type": "markdown",
   "metadata": {},
   "source": [
    "<br>\n",
    "<div style=\"color:#ffffff; \n",
    "          font-size:30px; \n",
    "          font-style:italic; \n",
    "          text-align:left;\n",
    "          font-family: 'Lucida Bright';\n",
    "          background:#4686C8;\">\n",
    "  \t      &nbsp; Results\n",
    "</div>\n",
    "<br>\n",
    "<div style=\"\n",
    "          font-size:16px; \n",
    "          text-align:left;\n",
    "          font-family: 'Cambria';\">\n",
    "\n",
    "<b>history()</b><br>\n",
    "This will show the models accuracy, loss, validation accuracy, and validation loss.<br>\n",
    "<br>\n",
    "<b>DataFrame(history.history)</b><br>\n",
    "Show the same thing that history() shows but in a better looking Pandas Dataframe format.<br>\n",
    "<br>\n",
    "<b>best.hps.values</b><br>\n",
    "Shows the best hyperparameters from the tuning process.<br>\n",
    "<br>\n",
    "</div>"
   ]
  },
  {
   "cell_type": "code",
   "execution_count": 13,
   "metadata": {
    "colab": {
     "base_uri": "https://localhost:8080/"
    },
    "id": "KIN0OEssQfsO",
    "outputId": "d205d51b-fac9-4702-8430-0916fab56f15"
   },
   "outputs": [
    {
     "data": {
      "text/plain": [
       "{'accuracy': [0.9413333535194397, 0.9801874756813049],\n",
       " 'loss': [0.1866369992494583, 0.06475665420293808],\n",
       " 'val_accuracy': [0.9742500185966492, 0.9838333129882812],\n",
       " 'val_loss': [0.08193392306566238, 0.053388237953186035]}"
      ]
     },
     "execution_count": 13,
     "metadata": {},
     "output_type": "execute_result"
    }
   ],
   "source": [
    "history.history"
   ]
  },
  {
   "cell_type": "code",
   "execution_count": 14,
   "metadata": {
    "colab": {
     "base_uri": "https://localhost:8080/",
     "height": 363
    },
    "id": "1ybjgdbNQwZy",
    "outputId": "ec0e9054-f9da-4108-9019-d09b470efb3f"
   },
   "outputs": [
    {
     "data": {
      "text/html": [
       "<div>\n",
       "<style scoped>\n",
       "    .dataframe tbody tr th:only-of-type {\n",
       "        vertical-align: middle;\n",
       "    }\n",
       "\n",
       "    .dataframe tbody tr th {\n",
       "        vertical-align: top;\n",
       "    }\n",
       "\n",
       "    .dataframe thead th {\n",
       "        text-align: right;\n",
       "    }\n",
       "</style>\n",
       "<table border=\"1\" class=\"dataframe\">\n",
       "  <thead>\n",
       "    <tr style=\"text-align: right;\">\n",
       "      <th></th>\n",
       "      <th>accuracy</th>\n",
       "      <th>loss</th>\n",
       "      <th>val_accuracy</th>\n",
       "      <th>val_loss</th>\n",
       "    </tr>\n",
       "  </thead>\n",
       "  <tbody>\n",
       "    <tr>\n",
       "      <th>0</th>\n",
       "      <td>0.941333</td>\n",
       "      <td>0.186637</td>\n",
       "      <td>0.974250</td>\n",
       "      <td>0.081934</td>\n",
       "    </tr>\n",
       "    <tr>\n",
       "      <th>1</th>\n",
       "      <td>0.980187</td>\n",
       "      <td>0.064757</td>\n",
       "      <td>0.983833</td>\n",
       "      <td>0.053388</td>\n",
       "    </tr>\n",
       "  </tbody>\n",
       "</table>\n",
       "</div>"
      ],
      "text/plain": [
       "   accuracy      loss  val_accuracy  val_loss\n",
       "0  0.941333  0.186637      0.974250  0.081934\n",
       "1  0.980187  0.064757      0.983833  0.053388"
      ]
     },
     "execution_count": 14,
     "metadata": {},
     "output_type": "execute_result"
    }
   ],
   "source": [
    "pd.DataFrame(history.history)"
   ]
  },
  {
   "cell_type": "code",
   "execution_count": 15,
   "metadata": {},
   "outputs": [
    {
     "data": {
      "text/plain": [
       "{'activation': 'relu',\n",
       " 'tuner/epochs': 2,\n",
       " 'tuner/initial_epoch': 0,\n",
       " 'tuner/bracket': 2,\n",
       " 'tuner/round': 0}"
      ]
     },
     "execution_count": 15,
     "metadata": {},
     "output_type": "execute_result"
    }
   ],
   "source": [
    "best_hps.values"
   ]
  },
  {
   "cell_type": "code",
   "execution_count": null,
   "metadata": {},
   "outputs": [],
   "source": []
  }
 ],
 "metadata": {
  "accelerator": "GPU",
  "colab": {
   "provenance": []
  },
  "gpuClass": "standard",
  "kernelspec": {
   "display_name": "Python 3 (ipykernel)",
   "language": "python",
   "name": "python3"
  },
  "language_info": {
   "codemirror_mode": {
    "name": "ipython",
    "version": 3
   },
   "file_extension": ".py",
   "mimetype": "text/x-python",
   "name": "python",
   "nbconvert_exporter": "python",
   "pygments_lexer": "ipython3",
   "version": "3.12.3"
  }
 },
 "nbformat": 4,
 "nbformat_minor": 4
}
